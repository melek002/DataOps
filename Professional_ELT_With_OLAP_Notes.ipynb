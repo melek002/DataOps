{
 "cells": [
  {
   "cell_type": "markdown",
   "id": "f791b178",
   "metadata": {},
   "source": [
    "# 🛠️ ETL Pipeline Project\n",
    "\n",
    "This notebook demonstrates a clean and professional Extract, Transform, Load (ETL) pipeline using Python. The objective is to retrieve data, process it for analysis, and load it into a structured format ready for downstream tasks such as reporting or modeling."
   ]
  },
  {
   "cell_type": "markdown",
   "id": "eeeaab02",
   "metadata": {},
   "source": [
    "**Author:** [Melek SFAXI]  \n",
    "**Date:** June 2025  \n",
    "**Tools Used:** Python, Pandas, SQLAlchemy, etc."
   ]
  },
  {
   "cell_type": "code",
   "execution_count": 1,
   "id": "df489593",
   "metadata": {},
   "outputs": [
    {
     "data": {
      "text/plain": [
       "True"
      ]
     },
     "execution_count": 1,
     "metadata": {},
     "output_type": "execute_result"
    }
   ],
   "source": [
    "import pandas as pd\n",
    "import numpy as np\n",
    "from sqlalchemy import create_engine\n",
    "import os\n",
    "from dotenv import load_dotenv\n",
    "load_dotenv()  # Load .env variables\n"
   ]
  },
  {
   "cell_type": "code",
   "execution_count": 2,
   "id": "783ccbcc",
   "metadata": {},
   "outputs": [],
   "source": [
    "def extract_data(file_path):\n",
    "    \"\"\"\n",
    "    Extracts data from a CSV file and returns a DataFrame.\n",
    "    \"\"\"\n",
    "    try:\n",
    "        data = pd.read_csv(file_path)\n",
    "        return data\n",
    "    except Exception as e:\n",
    "        return None"
   ]
  },
  {
   "cell_type": "code",
   "execution_count": 3,
   "id": "972dbd3e",
   "metadata": {},
   "outputs": [],
   "source": [
    "data= extract_data(\"Functional Task - OLTP_Subscription.csv\")"
   ]
  },
  {
   "cell_type": "code",
   "execution_count": 4,
   "id": "97d9735e",
   "metadata": {},
   "outputs": [],
   "source": [
    "# Get full structure summary"
   ]
  },
  {
   "cell_type": "code",
   "execution_count": 5,
   "id": "b1d89e0c",
   "metadata": {},
   "outputs": [
    {
     "data": {
      "application/vnd.microsoft.datawrangler.viewer.v0+json": {
       "columns": [
        {
         "name": "index",
         "rawType": "object",
         "type": "string"
        },
        {
         "name": "0",
         "rawType": "int64",
         "type": "integer"
        }
       ],
       "ref": "827f3fdf-ac3a-4305-99e6-7be4eb3b800a",
       "rows": [
        [
         "SessionName",
         "274"
        ],
        [
         "TrackName",
         "274"
        ],
        [
         "Hackerspace",
         "274"
        ],
        [
         "Country",
         "274"
        ],
        [
         "GroupName",
         "274"
        ],
        [
         "ProductSchedule",
         "274"
        ],
        [
         "Student",
         "274"
        ],
        [
         "StudentGender",
         "274"
        ],
        [
         "InstructorFullName",
         "274"
        ],
        [
         "InstructorEmail",
         "274"
        ],
        [
         "SubscriptionStartDate",
         "274"
        ],
        [
         "SubscriptionEndDate",
         "274"
        ],
        [
         "SubscriptionProgress",
         "274"
        ],
        [
         "SubscriptionHasDiploma",
         "274"
        ],
        [
         "DiplomaDate",
         "171"
        ],
        [
         "instructor_diploma",
         "171"
        ],
        [
         "StudentBirthDate",
         "228"
        ],
        [
         "professionalExperience",
         "274"
        ],
        [
         "Industry",
         "274"
        ]
       ],
       "shape": {
        "columns": 1,
        "rows": 19
       }
      },
      "text/plain": [
       "SessionName               274\n",
       "TrackName                 274\n",
       "Hackerspace               274\n",
       "Country                   274\n",
       "GroupName                 274\n",
       "ProductSchedule           274\n",
       "Student                   274\n",
       "StudentGender             274\n",
       "InstructorFullName        274\n",
       "InstructorEmail           274\n",
       "SubscriptionStartDate     274\n",
       "SubscriptionEndDate       274\n",
       "SubscriptionProgress      274\n",
       "SubscriptionHasDiploma    274\n",
       "DiplomaDate               171\n",
       "instructor_diploma        171\n",
       "StudentBirthDate          228\n",
       "professionalExperience    274\n",
       "Industry                  274\n",
       "dtype: int64"
      ]
     },
     "execution_count": 5,
     "metadata": {},
     "output_type": "execute_result"
    }
   ],
   "source": [
    "data[data['StudentGender']==\"Unknown\"].count()\n",
    "# Get the count"
   ]
  },
  {
   "cell_type": "code",
   "execution_count": 6,
   "id": "cb8716c2",
   "metadata": {},
   "outputs": [],
   "source": [
    "# Standardizing the 'ProductSchedule' column in the DataFrame\n",
    "# This function will categorize the 'ProductSchedule' values into standardized categories.\n",
    "def standardize_schedule(value):\n",
    "    val = value.strip().lower()  # normalize text\n",
    "    # Morning\n",
    "    if val == 'morning':\n",
    "        return 'Morning'\n",
    "    # Afternoon\n",
    "    if 'afternoon' in val or 'fridayeveningtn' in val:\n",
    "        return 'Afternoon'\n",
    "    # Night\n",
    "    if 'night' in val :\n",
    "        return 'Night'\n",
    "    # Full Day\n",
    "    if val == 'full day':\n",
    "        return 'Full Day'\n",
    "    # Kids\n",
    "    if 'kids' in val:\n",
    "        return 'Kids'\n",
    "    # B2B\n",
    "    if 'b2b' in val:\n",
    "        return 'B2B'\n",
    "    # Experimental\n",
    "    if 'exp' in val:\n",
    "        return 'Experimental'\n",
    "    # Code Schedule (P, F, W, N patterns)\n",
    "    if val.startswith(('p', 'f', 'w', 'n')):\n",
    "        return 'Code Schedule'\n",
    "    # Other (catch all)\n",
    "    return 'Other'\n",
    "# Apply function to entire column:\n",
    "data['ProductScheduleStandardized'] = data['ProductSchedule'].apply(standardize_schedule)"
   ]
  },
  {
   "cell_type": "code",
   "execution_count": 7,
   "id": "38b703ec",
   "metadata": {},
   "outputs": [
    {
     "data": {
      "text/plain": [
       "array(['Code Schedule', 'Night', 'Other', 'Morning', 'Afternoon', 'Kids',\n",
       "       'Experimental', 'Full Day', 'B2B'], dtype=object)"
      ]
     },
     "execution_count": 7,
     "metadata": {},
     "output_type": "execute_result"
    }
   ],
   "source": [
    "data[\"ProductScheduleStandardized\"].unique()\n",
    "# Display the standardized schedule counts"
   ]
  },
  {
   "cell_type": "code",
   "execution_count": 8,
   "id": "2d56b97f",
   "metadata": {},
   "outputs": [],
   "source": [
    "data[\"SubscriptionStartDate\"] = pd.to_datetime(data[\"SubscriptionStartDate\"], errors='coerce')\n",
    "data[\"SubscriptionEndDate\"] = pd.to_datetime(data[\"SubscriptionEndDate\"], errors='coerce')"
   ]
  },
  {
   "cell_type": "code",
   "execution_count": 9,
   "id": "be45246f",
   "metadata": {},
   "outputs": [],
   "source": [
    "# Remove the '%' character\n",
    "data[\"SubscriptionProgress\"] = data[\"SubscriptionProgress\"].str.replace('%', '', regex=True)\n",
    "\n",
    "# Convert to float\n",
    "data[\"SubscriptionProgress\"] = data[\"SubscriptionProgress\"].astype(float)\n",
    "# Convert 'SubscriptionProgress' to numeric"
   ]
  },
  {
   "cell_type": "code",
   "execution_count": 10,
   "id": "456eff3b",
   "metadata": {},
   "outputs": [
    {
     "data": {
      "text/plain": [
       "array([ True, False])"
      ]
     },
     "execution_count": 10,
     "metadata": {},
     "output_type": "execute_result"
    }
   ],
   "source": [
    "data[\"SubscriptionHasDiploma\"].unique()"
   ]
  },
  {
   "cell_type": "code",
   "execution_count": 11,
   "id": "8d0263a7",
   "metadata": {},
   "outputs": [
    {
     "data": {
      "text/plain": [
       "0"
      ]
     },
     "execution_count": 11,
     "metadata": {},
     "output_type": "execute_result"
    }
   ],
   "source": [
    "data['DiplomaDate'] = pd.to_datetime(data['DiplomaDate'], errors='coerce')\n",
    "data['DiplomaDate'] = data['DiplomaDate'].fillna('No Diploma').astype(str)\n",
    "data[\"DiplomaDate\"].isnull().sum()"
   ]
  },
  {
   "cell_type": "code",
   "execution_count": 12,
   "id": "38e23b31",
   "metadata": {},
   "outputs": [
    {
     "data": {
      "text/plain": [
       "array(['Sales', 'Research And Development', 'Marketing', 'Design',\n",
       "       'Management', 'Engineering And Technology', 'Unknown',\n",
       "       'Operations', 'Finance And Accounting And Legal'], dtype=object)"
      ]
     },
     "execution_count": 12,
     "metadata": {},
     "output_type": "execute_result"
    }
   ],
   "source": [
    "data[\"Industry\"].unique()\n",
    "# Function to standardize the 'Industry' column"
   ]
  },
  {
   "cell_type": "code",
   "execution_count": 13,
   "id": "a4d508ae",
   "metadata": {},
   "outputs": [],
   "source": [
    "data['instructor_diploma'] = data['instructor_diploma'].fillna('No Diploma').astype(str)"
   ]
  },
  {
   "cell_type": "code",
   "execution_count": 14,
   "id": "6358b04b",
   "metadata": {},
   "outputs": [],
   "source": [
    "data[\"StudentBirthDate\"].isna().sum()\n",
    "data['StudentBirthDate'] = data['StudentBirthDate'].fillna('Unknown')"
   ]
  },
  {
   "cell_type": "markdown",
   "id": "aa80c935",
   "metadata": {},
   "source": [
    "Olap"
   ]
  },
  {
   "cell_type": "code",
   "execution_count": 15,
   "id": "02410906",
   "metadata": {},
   "outputs": [],
   "source": [
    "data['SubscriptionMonth'] = data['SubscriptionStartDate'].dt.to_period('M').astype(str)"
   ]
  },
  {
   "cell_type": "code",
   "execution_count": 16,
   "id": "02301089",
   "metadata": {},
   "outputs": [],
   "source": [
    "data['DiplomaFlag'] = data['SubscriptionHasDiploma'].astype(int)"
   ]
  },
  {
   "cell_type": "code",
   "execution_count": 17,
   "id": "66231e6e",
   "metadata": {},
   "outputs": [],
   "source": [
    "def experience_bucket(exp):\n",
    "    if exp == 0:\n",
    "        return 'No Experience'\n",
    "    elif exp <= 2:\n",
    "        return 'Junior'\n",
    "    elif exp <= 5:\n",
    "        return 'Mid-Level'\n",
    "    else:\n",
    "        return 'Senior'\n",
    "\n",
    "data['ExperienceLevel'] = data['professionalExperience'].apply(experience_bucket)"
   ]
  },
  {
   "cell_type": "code",
   "execution_count": 18,
   "id": "0058ff14",
   "metadata": {},
   "outputs": [],
   "source": [
    "data['StudentBirthDate'] = pd.to_datetime(data['StudentBirthDate'], errors='coerce')\n",
    "data['StudentAge'] = ((pd.Timestamp('today') - data['StudentBirthDate']).dt.days // 365)"
   ]
  },
  {
   "cell_type": "code",
   "execution_count": 19,
   "id": "76dbae89",
   "metadata": {},
   "outputs": [],
   "source": [
    "data['StudentAge'] = data['StudentAge'].apply(lambda x: x if 6 <= x <= 65 else np.nan)\n",
    "data['StudentAge'].isna().sum()\n",
    "def categorize_age(age):\n",
    "    if pd.isna(age):\n",
    "        return 'Unknown'\n",
    "    if age < 18:\n",
    "        return 'Under 18'\n",
    "    elif age < 25:\n",
    "        return '18-24'\n",
    "    elif age < 35:\n",
    "        return '25-34'\n",
    "    elif age < 50:\n",
    "        return '35-49'\n",
    "    else:\n",
    "        return '50+'\n",
    "\n",
    "data['AgeGroup'] = data['StudentAge'].apply(categorize_age)"
   ]
  },
  {
   "cell_type": "code",
   "execution_count": 20,
   "id": "50eff8a3",
   "metadata": {},
   "outputs": [],
   "source": [
    "def experience_bucket(exp):\n",
    "    if exp == 0:\n",
    "        return 'No Experience'\n",
    "    elif exp <= 2:\n",
    "        return 'Junior'\n",
    "    elif exp <= 5:\n",
    "        return 'Mid-Level'\n",
    "    else:\n",
    "        return 'Senior'\n",
    "\n",
    "data['ExperienceLevel'] = data['professionalExperience'].apply(experience_bucket)"
   ]
  },
  {
   "cell_type": "code",
   "execution_count": 21,
   "id": "ca5a938f",
   "metadata": {},
   "outputs": [],
   "source": [
    "def churn_logic(row):\n",
    "    if row['DiplomaFlag'] == 1:\n",
    "        return 'Completed'\n",
    "    elif row['SubscriptionProgress'] < 25:\n",
    "        return 'Likely Churned'\n",
    "    else:\n",
    "        return 'Active / In Progress'\n",
    "\n",
    "data['ChurnFlag'] = data.apply(churn_logic, axis=1)"
   ]
  },
  {
   "cell_type": "code",
   "execution_count": 22,
   "id": "69defc78",
   "metadata": {},
   "outputs": [
    {
     "name": "stdout",
     "output_type": "stream",
     "text": [
      "<class 'pandas.core.frame.DataFrame'>\n",
      "RangeIndex: 5024 entries, 0 to 5023\n",
      "Data columns (total 26 columns):\n",
      " #   Column                       Non-Null Count  Dtype         \n",
      "---  ------                       --------------  -----         \n",
      " 0   SessionName                  5024 non-null   object        \n",
      " 1   TrackName                    5024 non-null   object        \n",
      " 2   Hackerspace                  5024 non-null   object        \n",
      " 3   Country                      5024 non-null   object        \n",
      " 4   GroupName                    5024 non-null   object        \n",
      " 5   ProductSchedule              5024 non-null   object        \n",
      " 6   Student                      5024 non-null   object        \n",
      " 7   StudentGender                5024 non-null   object        \n",
      " 8   InstructorFullName           5024 non-null   object        \n",
      " 9   InstructorEmail              5024 non-null   object        \n",
      " 10  SubscriptionStartDate        5024 non-null   datetime64[ns]\n",
      " 11  SubscriptionEndDate          5024 non-null   datetime64[ns]\n",
      " 12  SubscriptionProgress         5024 non-null   float64       \n",
      " 13  SubscriptionHasDiploma       5024 non-null   bool          \n",
      " 14  DiplomaDate                  5024 non-null   object        \n",
      " 15  instructor_diploma           5024 non-null   object        \n",
      " 16  StudentBirthDate             4978 non-null   datetime64[ns]\n",
      " 17  professionalExperience       5024 non-null   int64         \n",
      " 18  Industry                     5024 non-null   object        \n",
      " 19  ProductScheduleStandardized  5024 non-null   object        \n",
      " 20  SubscriptionMonth            5024 non-null   object        \n",
      " 21  DiplomaFlag                  5024 non-null   int32         \n",
      " 22  ExperienceLevel              5024 non-null   object        \n",
      " 23  StudentAge                   4716 non-null   float64       \n",
      " 24  AgeGroup                     5024 non-null   object        \n",
      " 25  ChurnFlag                    5024 non-null   object        \n",
      "dtypes: bool(1), datetime64[ns](3), float64(2), int32(1), int64(1), object(18)\n",
      "memory usage: 966.7+ KB\n"
     ]
    }
   ],
   "source": [
    "data.info()"
   ]
  },
  {
   "cell_type": "markdown",
   "id": "969e6be9",
   "metadata": {},
   "source": [
    "# 📊 OLAP Integration\n",
    "\n",
    "This section demonstrates how OLAP (Online Analytical Processing) capabilities are integrated into the pipeline. You perform operations such as connecting to a database, creating a star schema, and preparing data for multidimensional analysis. This enables slicing, dicing, and efficient aggregation of data for business intelligence purposes."
   ]
  },
  {
   "cell_type": "code",
   "execution_count": 23,
   "id": "32c4d762",
   "metadata": {},
   "outputs": [],
   "source": [
    "group_cols = [\n",
    "    'SubscriptionMonth',\n",
    "    'Country',\n",
    "    'Hackerspace',\n",
    "    'TrackName',\n",
    "    'ProductScheduleStandardized',\n",
    "    'StudentGender',\n",
    "    'Industry',\n",
    "    'AgeGroup',\n",
    "    'ExperienceLevel',\n",
    "    'ChurnFlag'   # 🆕 include churn state for better reporting\n",
    "]\n",
    "olap_table = data.groupby(group_cols).agg({\n",
    "    'Student': 'count',\n",
    "    'SubscriptionProgress': 'mean',\n",
    "    'DiplomaFlag': 'sum',\n",
    "    'professionalExperience': 'mean'\n",
    "}).reset_index()\n",
    "olap_table.rename(columns={\n",
    "    'Student': 'TotalSubscriptions',\n",
    "    'SubscriptionProgress': 'AvgProgress',\n",
    "    'DiplomaFlag': 'TotalDiplomas',\n",
    "    'professionalExperience': 'AvgExperience'\n",
    "}, inplace=True)\n",
    "olap_table['DiplomaRate'] = (olap_table['TotalDiplomas'] / olap_table['TotalSubscriptions']).round(2)"
   ]
  },
  {
   "cell_type": "code",
   "execution_count": 24,
   "id": "d7762990",
   "metadata": {},
   "outputs": [
    {
     "name": "stdout",
     "output_type": "stream",
     "text": [
      "Exported OLAP table to OLAP_Subscription_Dataset.csv\n"
     ]
    }
   ],
   "source": [
    "# Export backup CSV\n",
    "olap_table.to_csv(\"OLAP_Subscription_Dataset.csv\", index=False)\n",
    "print(\"Exported OLAP table to OLAP_Subscription_Dataset.csv\")\n",
    "# PostgreSQL connection info\n",
    "username = 'avnadmin'\n",
    "password = os.getenv(\"AIVEN_PASSWORD\")\n",
    "host = 'olapsubscription-sfaximalek5-beeb.f.aivencloud.com'\n",
    "port = '11936'\n",
    "database = 'defaultdb'\n",
    "\n",
    "# Create connection string\n",
    "connection_string = f\"postgresql+psycopg2://{username}:{password}@{host}:{port}/{database}\"\n",
    "engine = create_engine(connection_string)\n",
    "\n",
    "# Clean column names for SQL compatibility\n",
    "olap_table.columns = olap_table.columns.str.lower().str.replace(' ', '_')\n",
    "\n",
    "# ✅ The fix using engine.connect()\n",
    "# No engine.connect() tricks needed anymore\n",
    "olap_table.to_sql(\n",
    "    name='olap_subscription',\n",
    "    con=engine,\n",
    "    if_exists='replace',\n",
    "    index=False\n",
    ")\n",
    "method='multi'   # optional but nice)"
   ]
  }
 ],
 "metadata": {
  "kernelspec": {
   "display_name": "Python 3",
   "language": "python",
   "name": "python3"
  },
  "language_info": {
   "codemirror_mode": {
    "name": "ipython",
    "version": 3
   },
   "file_extension": ".py",
   "mimetype": "text/x-python",
   "name": "python",
   "nbconvert_exporter": "python",
   "pygments_lexer": "ipython3",
   "version": "3.11.4"
  }
 },
 "nbformat": 4,
 "nbformat_minor": 5
}
